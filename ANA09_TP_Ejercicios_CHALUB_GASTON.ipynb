{
  "nbformat": 4,
  "nbformat_minor": 0,
  "metadata": {
    "colab": {
      "provenance": []
    },
    "kernelspec": {
      "name": "python3",
      "display_name": "Python 3"
    },
    "language_info": {
      "name": "python"
    }
  },
  "cells": [
    {
      "cell_type": "code",
      "execution_count": 29,
      "metadata": {
        "id": "VN_Wcp2X1Ku0"
      },
      "outputs": [],
      "source": [
        "import pandas as pd\n",
        "from sklearn.model_selection import train_test_split\n",
        "from sklearn.ensemble import AdaBoostClassifier, GradientBoostingClassifier\n",
        "from xgboost import XGBClassifier\n",
        "from sklearn.metrics import accuracy_score, precision_score, recall_score, f1_score, roc_auc_score\n",
        "from sklearn.impute import SimpleImputer\n",
        "from sklearn.preprocessing import LabelEncoder, OneHotEncoder\n",
        "from sklearn.metrics import accuracy_score, precision_score, recall_score, f1_score, roc_auc_score\n",
        "from sklearn.model_selection import train_test_split, cross_val_score\n",
        "# Cargar el conjunto de datos\n",
        "data = pd.read_csv('hotel_bookings.csv')"
      ]
    },
    {
      "cell_type": "code",
      "source": [
        "data.info()"
      ],
      "metadata": {
        "colab": {
          "base_uri": "https://localhost:8080/"
        },
        "id": "K8WqgQ-I2BTx",
        "outputId": "7f142676-d1c1-4035-9963-87b2fb37c56a"
      },
      "execution_count": 3,
      "outputs": [
        {
          "output_type": "stream",
          "name": "stdout",
          "text": [
            "<class 'pandas.core.frame.DataFrame'>\n",
            "RangeIndex: 74108 entries, 0 to 74107\n",
            "Data columns (total 32 columns):\n",
            " #   Column                          Non-Null Count  Dtype  \n",
            "---  ------                          --------------  -----  \n",
            " 0   hotel                           74108 non-null  object \n",
            " 1   is_canceled                     74108 non-null  int64  \n",
            " 2   lead_time                       74108 non-null  int64  \n",
            " 3   arrival_date_year               74108 non-null  int64  \n",
            " 4   arrival_date_month              74108 non-null  object \n",
            " 5   arrival_date_week_number        74108 non-null  int64  \n",
            " 6   arrival_date_day_of_month       74108 non-null  int64  \n",
            " 7   stays_in_weekend_nights         74108 non-null  int64  \n",
            " 8   stays_in_week_nights            74108 non-null  int64  \n",
            " 9   adults                          74108 non-null  int64  \n",
            " 10  children                        74104 non-null  float64\n",
            " 11  babies                          74108 non-null  int64  \n",
            " 12  meal                            74108 non-null  object \n",
            " 13  country                         73622 non-null  object \n",
            " 14  market_segment                  74108 non-null  object \n",
            " 15  distribution_channel            74108 non-null  object \n",
            " 16  is_repeated_guest               74108 non-null  int64  \n",
            " 17  previous_cancellations          74108 non-null  int64  \n",
            " 18  previous_bookings_not_canceled  74108 non-null  int64  \n",
            " 19  reserved_room_type              74108 non-null  object \n",
            " 20  assigned_room_type              74108 non-null  object \n",
            " 21  booking_changes                 74108 non-null  int64  \n",
            " 22  deposit_type                    74108 non-null  object \n",
            " 23  agent                           63211 non-null  float64\n",
            " 24  company                         3845 non-null   float64\n",
            " 25  days_in_waiting_list            74108 non-null  int64  \n",
            " 26  customer_type                   74107 non-null  object \n",
            " 27  adr                             74107 non-null  float64\n",
            " 28  required_car_parking_spaces     74107 non-null  float64\n",
            " 29  total_of_special_requests       74107 non-null  float64\n",
            " 30  reservation_status              74107 non-null  object \n",
            " 31  reservation_status_date         74107 non-null  object \n",
            "dtypes: float64(6), int64(14), object(12)\n",
            "memory usage: 18.1+ MB\n"
          ]
        }
      ]
    },
    {
      "cell_type": "code",
      "source": [
        "# Imputar valores faltantes\n",
        "imputer = SimpleImputer(strategy='mean')\n",
        "data['children'] = imputer.fit_transform(data['children'].values.reshape(-1, 1))\n",
        "\n",
        "# Codificar variables categóricas\n",
        "categorical_columns = ['hotel', 'arrival_date_month', 'meal', 'country', 'market_segment',\n",
        "                       'distribution_channel', 'reserved_room_type', 'assigned_room_type',\n",
        "                       'deposit_type', 'customer_type', 'reservation_status', 'reservation_status_date']\n",
        "\n",
        "label_encoders = {}\n",
        "for col in categorical_columns:\n",
        "    le = LabelEncoder()\n",
        "    data[col] = le.fit_transform(data[col])\n",
        "    label_encoders[col] = le"
      ],
      "metadata": {
        "id": "I7Fm2Vhb3Xvk"
      },
      "execution_count": 12,
      "outputs": []
    },
    {
      "cell_type": "code",
      "source": [
        "# Definir las características (variables independientes) y la variable objetivo\n",
        "X = data.drop('is_canceled', axis=1)\n",
        "y = data['is_canceled']\n"
      ],
      "metadata": {
        "id": "PLY7Lfgo2K_l"
      },
      "execution_count": 14,
      "outputs": []
    },
    {
      "cell_type": "code",
      "source": [
        "# División de datos en conjuntos de entrenamiento y prueba\n",
        "X_train, X_test, y_train, y_test = train_test_split(X, y, test_size=0.2, random_state=42)\n"
      ],
      "metadata": {
        "id": "OvsJh8_J2Iv0"
      },
      "execution_count": 15,
      "outputs": []
    },
    {
      "cell_type": "code",
      "source": [
        "\n",
        "from sklearn.impute import SimpleImputer\n",
        "\n",
        "imputer = SimpleImputer(strategy='mean')  # Puedes elegir 'mean', 'median', 'most_frequent', o cualquier otra estrategia\n",
        "X_train = imputer.fit_transform(X_train)\n",
        "X_test = imputer.transform(X_test)\n",
        "\n",
        "\n",
        "# Entrenamiento de modelos\n",
        "# AdaBoost\n",
        "adaboost_model = AdaBoostClassifier(n_estimators=50, random_state=42)\n",
        "adaboost_model.fit(X_train, y_train)\n",
        "\n",
        "# Gradient Boosting\n",
        "gradientboost_model = GradientBoostingClassifier(n_estimators=100, random_state=42)\n",
        "gradientboost_model.fit(X_train, y_train)\n",
        "\n",
        "# XGBoost\n",
        "xgboost_model = XGBClassifier(n_estimators=100, random_state=42)\n",
        "xgboost_model.fit(X_train, y_train)\n"
      ],
      "metadata": {
        "colab": {
          "base_uri": "https://localhost:8080/",
          "height": 247
        },
        "id": "VfrcHAfD2l6q",
        "outputId": "5d285161-a0a2-44b3-fd14-ed20f596c52a"
      },
      "execution_count": 23,
      "outputs": [
        {
          "output_type": "execute_result",
          "data": {
            "text/plain": [
              "XGBClassifier(base_score=None, booster=None, callbacks=None,\n",
              "              colsample_bylevel=None, colsample_bynode=None,\n",
              "              colsample_bytree=None, device=None, early_stopping_rounds=None,\n",
              "              enable_categorical=False, eval_metric=None, feature_types=None,\n",
              "              gamma=None, grow_policy=None, importance_type=None,\n",
              "              interaction_constraints=None, learning_rate=None, max_bin=None,\n",
              "              max_cat_threshold=None, max_cat_to_onehot=None,\n",
              "              max_delta_step=None, max_depth=None, max_leaves=None,\n",
              "              min_child_weight=None, missing=nan, monotone_constraints=None,\n",
              "              multi_strategy=None, n_estimators=100, n_jobs=None,\n",
              "              num_parallel_tree=None, random_state=42, ...)"
            ],
            "text/html": [
              "<style>#sk-container-id-2 {color: black;background-color: white;}#sk-container-id-2 pre{padding: 0;}#sk-container-id-2 div.sk-toggleable {background-color: white;}#sk-container-id-2 label.sk-toggleable__label {cursor: pointer;display: block;width: 100%;margin-bottom: 0;padding: 0.3em;box-sizing: border-box;text-align: center;}#sk-container-id-2 label.sk-toggleable__label-arrow:before {content: \"▸\";float: left;margin-right: 0.25em;color: #696969;}#sk-container-id-2 label.sk-toggleable__label-arrow:hover:before {color: black;}#sk-container-id-2 div.sk-estimator:hover label.sk-toggleable__label-arrow:before {color: black;}#sk-container-id-2 div.sk-toggleable__content {max-height: 0;max-width: 0;overflow: hidden;text-align: left;background-color: #f0f8ff;}#sk-container-id-2 div.sk-toggleable__content pre {margin: 0.2em;color: black;border-radius: 0.25em;background-color: #f0f8ff;}#sk-container-id-2 input.sk-toggleable__control:checked~div.sk-toggleable__content {max-height: 200px;max-width: 100%;overflow: auto;}#sk-container-id-2 input.sk-toggleable__control:checked~label.sk-toggleable__label-arrow:before {content: \"▾\";}#sk-container-id-2 div.sk-estimator input.sk-toggleable__control:checked~label.sk-toggleable__label {background-color: #d4ebff;}#sk-container-id-2 div.sk-label input.sk-toggleable__control:checked~label.sk-toggleable__label {background-color: #d4ebff;}#sk-container-id-2 input.sk-hidden--visually {border: 0;clip: rect(1px 1px 1px 1px);clip: rect(1px, 1px, 1px, 1px);height: 1px;margin: -1px;overflow: hidden;padding: 0;position: absolute;width: 1px;}#sk-container-id-2 div.sk-estimator {font-family: monospace;background-color: #f0f8ff;border: 1px dotted black;border-radius: 0.25em;box-sizing: border-box;margin-bottom: 0.5em;}#sk-container-id-2 div.sk-estimator:hover {background-color: #d4ebff;}#sk-container-id-2 div.sk-parallel-item::after {content: \"\";width: 100%;border-bottom: 1px solid gray;flex-grow: 1;}#sk-container-id-2 div.sk-label:hover label.sk-toggleable__label {background-color: #d4ebff;}#sk-container-id-2 div.sk-serial::before {content: \"\";position: absolute;border-left: 1px solid gray;box-sizing: border-box;top: 0;bottom: 0;left: 50%;z-index: 0;}#sk-container-id-2 div.sk-serial {display: flex;flex-direction: column;align-items: center;background-color: white;padding-right: 0.2em;padding-left: 0.2em;position: relative;}#sk-container-id-2 div.sk-item {position: relative;z-index: 1;}#sk-container-id-2 div.sk-parallel {display: flex;align-items: stretch;justify-content: center;background-color: white;position: relative;}#sk-container-id-2 div.sk-item::before, #sk-container-id-2 div.sk-parallel-item::before {content: \"\";position: absolute;border-left: 1px solid gray;box-sizing: border-box;top: 0;bottom: 0;left: 50%;z-index: -1;}#sk-container-id-2 div.sk-parallel-item {display: flex;flex-direction: column;z-index: 1;position: relative;background-color: white;}#sk-container-id-2 div.sk-parallel-item:first-child::after {align-self: flex-end;width: 50%;}#sk-container-id-2 div.sk-parallel-item:last-child::after {align-self: flex-start;width: 50%;}#sk-container-id-2 div.sk-parallel-item:only-child::after {width: 0;}#sk-container-id-2 div.sk-dashed-wrapped {border: 1px dashed gray;margin: 0 0.4em 0.5em 0.4em;box-sizing: border-box;padding-bottom: 0.4em;background-color: white;}#sk-container-id-2 div.sk-label label {font-family: monospace;font-weight: bold;display: inline-block;line-height: 1.2em;}#sk-container-id-2 div.sk-label-container {text-align: center;}#sk-container-id-2 div.sk-container {/* jupyter's `normalize.less` sets `[hidden] { display: none; }` but bootstrap.min.css set `[hidden] { display: none !important; }` so we also need the `!important` here to be able to override the default hidden behavior on the sphinx rendered scikit-learn.org. See: https://github.com/scikit-learn/scikit-learn/issues/21755 */display: inline-block !important;position: relative;}#sk-container-id-2 div.sk-text-repr-fallback {display: none;}</style><div id=\"sk-container-id-2\" class=\"sk-top-container\"><div class=\"sk-text-repr-fallback\"><pre>XGBClassifier(base_score=None, booster=None, callbacks=None,\n",
              "              colsample_bylevel=None, colsample_bynode=None,\n",
              "              colsample_bytree=None, device=None, early_stopping_rounds=None,\n",
              "              enable_categorical=False, eval_metric=None, feature_types=None,\n",
              "              gamma=None, grow_policy=None, importance_type=None,\n",
              "              interaction_constraints=None, learning_rate=None, max_bin=None,\n",
              "              max_cat_threshold=None, max_cat_to_onehot=None,\n",
              "              max_delta_step=None, max_depth=None, max_leaves=None,\n",
              "              min_child_weight=None, missing=nan, monotone_constraints=None,\n",
              "              multi_strategy=None, n_estimators=100, n_jobs=None,\n",
              "              num_parallel_tree=None, random_state=42, ...)</pre><b>In a Jupyter environment, please rerun this cell to show the HTML representation or trust the notebook. <br />On GitHub, the HTML representation is unable to render, please try loading this page with nbviewer.org.</b></div><div class=\"sk-container\" hidden><div class=\"sk-item\"><div class=\"sk-estimator sk-toggleable\"><input class=\"sk-toggleable__control sk-hidden--visually\" id=\"sk-estimator-id-2\" type=\"checkbox\" checked><label for=\"sk-estimator-id-2\" class=\"sk-toggleable__label sk-toggleable__label-arrow\">XGBClassifier</label><div class=\"sk-toggleable__content\"><pre>XGBClassifier(base_score=None, booster=None, callbacks=None,\n",
              "              colsample_bylevel=None, colsample_bynode=None,\n",
              "              colsample_bytree=None, device=None, early_stopping_rounds=None,\n",
              "              enable_categorical=False, eval_metric=None, feature_types=None,\n",
              "              gamma=None, grow_policy=None, importance_type=None,\n",
              "              interaction_constraints=None, learning_rate=None, max_bin=None,\n",
              "              max_cat_threshold=None, max_cat_to_onehot=None,\n",
              "              max_delta_step=None, max_depth=None, max_leaves=None,\n",
              "              min_child_weight=None, missing=nan, monotone_constraints=None,\n",
              "              multi_strategy=None, n_estimators=100, n_jobs=None,\n",
              "              num_parallel_tree=None, random_state=42, ...)</pre></div></div></div></div></div>"
            ]
          },
          "metadata": {},
          "execution_count": 23
        }
      ]
    },
    {
      "cell_type": "code",
      "source": [
        "# Evaluación de modelos\n",
        "models = [adaboost_model, gradientboost_model, xgboost_model]\n",
        "model_names = ['AdaBoost', 'Gradient Boosting', 'XGBoost']\n",
        "\n",
        "for model, name in zip(models, model_names):\n",
        "    y_pred = model.predict(X_test)\n",
        "    accuracy = accuracy_score(y_test, y_pred)\n",
        "    precision = precision_score(y_test, y_pred)\n",
        "    recall = recall_score(y_test, y_pred)\n",
        "    f1 = f1_score(y_test, y_pred)\n",
        "    roc_auc = roc_auc_score(y_test, y_pred)\n",
        "\n",
        "    print(f\"Model: {name}\")\n",
        "    print(f\"Accuracy: {accuracy}\")\n",
        "    print(f\"Precision: {precision}\")\n",
        "    print(f\"Recall: {recall}\")\n",
        "    print(f\"F1 Score: {f1}\")\n",
        "    print(f\"ROC AUC: {roc_auc}\")\n",
        "    print(\"\\n\")\n"
      ],
      "metadata": {
        "colab": {
          "base_uri": "https://localhost:8080/"
        },
        "id": "m7P2tefa5E9j",
        "outputId": "88e94a5b-542a-46d2-bdf1-ab660c170b1e"
      },
      "execution_count": 24,
      "outputs": [
        {
          "output_type": "stream",
          "name": "stdout",
          "text": [
            "Model: AdaBoost\n",
            "Accuracy: 1.0\n",
            "Precision: 1.0\n",
            "Recall: 1.0\n",
            "F1 Score: 1.0\n",
            "ROC AUC: 1.0\n",
            "\n",
            "\n",
            "Model: Gradient Boosting\n",
            "Accuracy: 1.0\n",
            "Precision: 1.0\n",
            "Recall: 1.0\n",
            "F1 Score: 1.0\n",
            "ROC AUC: 1.0\n",
            "\n",
            "\n",
            "Model: XGBoost\n",
            "Accuracy: 1.0\n",
            "Precision: 1.0\n",
            "Recall: 1.0\n",
            "F1 Score: 1.0\n",
            "ROC AUC: 1.0\n",
            "\n",
            "\n"
          ]
        }
      ]
    },
    {
      "cell_type": "markdown",
      "source": [
        "tienen un rendimiento perfecto en términos de las métricas de evaluación que proporcionaste (precisión, recall, F1 Score, y ROC AUC). Un rendimiento perfecto, donde todas las métricas son igual a 1.0, es inusual y podría indicar algún problema en proceso de modelado o en la evaluación."
      ],
      "metadata": {
        "id": "HCTKWGJF6CPj"
      }
    },
    {
      "cell_type": "code",
      "source": [
        "# Realizar validación cruzada y obtener métricas\n",
        "for model, name in zip(models, model_names):\n",
        "    # Realizar validación cruzada de 5 pliegues\n",
        "    scores = cross_val_score(model, X_train, y_train, cv=5, scoring='accuracy')\n",
        "\n",
        "    # Calcular métricas para cada pliegue\n",
        "    for fold, score in enumerate(scores):\n",
        "        print(f\"Model: {name}, Fold {fold + 1} - Accuracy: {score:.2f}\")\n",
        "\n",
        "    # Calcular métricas en el conjunto de prueba\n",
        "    model.fit(X_train, y_train)\n",
        "    y_pred = model.predict(X_test)\n",
        "    accuracy = accuracy_score(y_test, y_pred)\n",
        "    precision = precision_score(y_test, y_pred)\n",
        "    recall = recall_score(y_test, y_pred)\n",
        "    f1 = f1_score(y_test, y_pred)\n",
        "    roc_auc = roc_auc_score(y_test, y_pred)\n",
        "\n",
        "    print(f\"Model: {name} - Test Set Metrics\")\n",
        "    print(f\"Accuracy: {accuracy:.2f}\")\n",
        "    print(f\"Precision: {precision:.2f}\")\n",
        "    print(f\"Recall: {recall:.2f}\")\n",
        "    print(f\"F1 Score: {f1:.2f}\")\n",
        "    print(f\"ROC AUC: {roc_auc:.2f}\")\n",
        "    print(\"\\n\")"
      ],
      "metadata": {
        "colab": {
          "base_uri": "https://localhost:8080/"
        },
        "id": "o8t74_dU6DOq",
        "outputId": "dcee707d-a68f-49f2-c0d8-8f41860ec291"
      },
      "execution_count": 30,
      "outputs": [
        {
          "output_type": "stream",
          "name": "stdout",
          "text": [
            "Model: AdaBoost, Fold 1 - Accuracy: 1.00\n",
            "Model: AdaBoost, Fold 2 - Accuracy: 1.00\n",
            "Model: AdaBoost, Fold 3 - Accuracy: 1.00\n",
            "Model: AdaBoost, Fold 4 - Accuracy: 1.00\n",
            "Model: AdaBoost, Fold 5 - Accuracy: 1.00\n",
            "Model: AdaBoost - Test Set Metrics\n",
            "Accuracy: 1.00\n",
            "Precision: 1.00\n",
            "Recall: 1.00\n",
            "F1 Score: 1.00\n",
            "ROC AUC: 1.00\n",
            "\n",
            "\n",
            "Model: Gradient Boosting, Fold 1 - Accuracy: 1.00\n",
            "Model: Gradient Boosting, Fold 2 - Accuracy: 1.00\n",
            "Model: Gradient Boosting, Fold 3 - Accuracy: 1.00\n",
            "Model: Gradient Boosting, Fold 4 - Accuracy: 1.00\n",
            "Model: Gradient Boosting, Fold 5 - Accuracy: 1.00\n",
            "Model: Gradient Boosting - Test Set Metrics\n",
            "Accuracy: 1.00\n",
            "Precision: 1.00\n",
            "Recall: 1.00\n",
            "F1 Score: 1.00\n",
            "ROC AUC: 1.00\n",
            "\n",
            "\n",
            "Model: XGBoost, Fold 1 - Accuracy: 1.00\n",
            "Model: XGBoost, Fold 2 - Accuracy: 1.00\n",
            "Model: XGBoost, Fold 3 - Accuracy: 1.00\n",
            "Model: XGBoost, Fold 4 - Accuracy: 1.00\n",
            "Model: XGBoost, Fold 5 - Accuracy: 1.00\n",
            "Model: XGBoost - Test Set Metrics\n",
            "Accuracy: 1.00\n",
            "Precision: 1.00\n",
            "Recall: 1.00\n",
            "F1 Score: 1.00\n",
            "ROC AUC: 1.00\n",
            "\n",
            "\n"
          ]
        }
      ]
    },
    {
      "cell_type": "markdown",
      "source": [
        "Los resultados de la validación cruzada y las métricas en el conjunto de prueba muestran que los tres modelos (AdaBoost, Gradient Boosting y XGBoost) tienen un rendimiento perfecto con todas las métricas establecidas en 1.0. Esto sugiere que los modelos están prediciendo con precisión la cancelación de reservas en tus datos de prueba.\n",
        "\n",
        "Un rendimiento perfecto, aunque es poco común, puede ser válido en situaciones donde los datos son altamente descriptivos y los modelos tienen un ajuste adecuado a los datos."
      ],
      "metadata": {
        "id": "rJMQgDhK7ulw"
      }
    }
  ]
}